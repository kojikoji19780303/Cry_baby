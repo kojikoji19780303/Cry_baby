{
  "nbformat": 4,
  "nbformat_minor": 0,
  "metadata": {
    "colab": {
      "name": "DAY2_SORORI.ipynb",
      "provenance": [],
      "collapsed_sections": [],
      "authorship_tag": "ABX9TyP9wv+4lLLHe3bpDqT95gRx",
      "include_colab_link": true
    },
    "kernelspec": {
      "name": "python3",
      "display_name": "Python 3"
    },
    "language_info": {
      "name": "python"
    }
  },
  "cells": [
    {
      "cell_type": "markdown",
      "metadata": {
        "id": "view-in-github",
        "colab_type": "text"
      },
      "source": [
        "<a href=\"https://colab.research.google.com/github/kojikoji19780303/Cry_baby/blob/master/DAY2_SORORI.ipynb\" target=\"_parent\"><img src=\"https://colab.research.google.com/assets/colab-badge.svg\" alt=\"Open In Colab\"/></a>"
      ]
    },
    {
      "cell_type": "code",
      "metadata": {
        "id": "9aP_G6fCmll3"
      },
      "source": [
        ""
      ],
      "execution_count": null,
      "outputs": []
    },
    {
      "cell_type": "markdown",
      "metadata": {
        "id": "5wQl4S0RnB3D"
      },
      "source": [
        "今日は米1粒、翌日には倍の2粒、その翌日には更に倍の4粒と、日ごとに倍の量の米を100日間もらう事を希望した。\n",
        "\n",
        "【問題1】100日目の米粒の数\n",
        "1\n",
        "00日目には合計で米粒をいくつもらっているのかを計算するコードを作成し、答えを出力してください。また、1日目から100日目までの「その日にもらう米の数」と「その日までに累計で貰う米の数」の推移を折れ線グラフで表現してください。（縦軸が米の数、横軸が日数）\n"
      ]
    },
    {
      "cell_type": "markdown",
      "metadata": {
        "id": "YBQqhcjOm6Le"
      },
      "source": [
        ""
      ]
    },
    {
      "cell_type": "code",
      "metadata": {
        "colab": {
          "base_uri": "https://localhost:8080/"
        },
        "id": "KC0xPIYYnJFH",
        "outputId": "5b4ed111-892f-40b3-fb68-14caa09ccda7"
      },
      "source": [
        "n_days = 100\n",
        "n_grains = 1\n",
        "\n",
        "n_grains_list = [n_grains]\n",
        "total_grains_list = [n_grains_list[-1]]\n",
        "\n",
        "for i in range(n_days-1):\n",
        "  n_grains_list.append(n_grains_list[-1]*2)\n",
        "  total_grains_list.append(total_grains_list[-1] + n_grains_list[-1])\n",
        "\n",
        "print(n_grains_list[-1])\n",
        "print(total_grains_list[-1])\n",
        "\n"
      ],
      "execution_count": 1,
      "outputs": [
        {
          "output_type": "stream",
          "name": "stdout",
          "text": [
            "633825300114114700748351602688\n",
            "1267650600228229401496703205375\n"
          ]
        }
      ]
    },
    {
      "cell_type": "code",
      "metadata": {
        "colab": {
          "base_uri": "https://localhost:8080/",
          "height": 296
        },
        "id": "GORbOpgXodFn",
        "outputId": "060eccfd-2774-4ab0-e97b-6b867a1413ec"
      },
      "source": [
        "import matplotlib.pyplot as plt\n",
        "%matplotlib inline\n",
        "# グラフを表示する。タイトルと軸ラベル名付き。\n",
        "plt.title(\"SORORI_SHINZAEMON\")\n",
        "plt.xlabel(\"n_days\")\n",
        "plt.ylabel(\"n_grains\")\n",
        "plt.plot(n_grains_list, label=\"one day\")  # その日もらう米粒\n",
        "plt.plot(total_grains_list,color = \"red\", label=\"total\")  # 累計\n",
        "plt.legend()\n",
        "plt.show()"
      ],
      "execution_count": 2,
      "outputs": [
        {
          "output_type": "display_data",
          "data": {
            "image/png": "[encoded data removed]",
            "text/plain": [
              "<Figure size 432x288 with 1 Axes>"
            ]
          },
          "metadata": {
            "needs_background": "light"
          }
        }
      ]
    },
    {
      "cell_type": "markdown",
      "metadata": {
        "id": "LWUOM6RTupXH"
      },
      "source": [
        "問題2】100日目以外の米粒の数\n",
        "この逸話は30日だったり81日だったりと日数が曖昧です。どの話にも対応できるように日数を引数とした 関数 を作成しましょう。関数を作成した上で、コース受講日数でいくつ米粒をもらえるかを答えてください。問題1と同様に折れ線グラフも出力してください。\n",
        "\n",
        "\n",
        "以下の雛形には関数としての枠組みだけではなく、引数や戻り値についてのコメントも記載してあります。参考にして、自分なりにも分かりやすくコメントを書き換えてください。"
      ]
    },
    {
      "cell_type": "code",
      "metadata": {
        "colab": {
          "base_uri": "https://localhost:8080/",
          "height": 330
        },
        "id": "yTi_QwDHu0_g",
        "outputId": "d938227d-4c7b-44ad-ddfd-a4ca1e4ad1ce"
      },
      "source": [
        "def compute_sorori_shinzaemon(n_days=100,n_grains = 1):\n",
        "    \"\"\"曽呂利新左衛門の米の逸話における、日にちごとの米の粒の数を計算する関数。\n",
        "    Parameteres\n",
        "    -----------\n",
        "    n_days: int\n",
        "        米を貰う日数 (default : 100)\n",
        "    Returns\n",
        "    -------\n",
        "    list_n_grains : list\n",
        "        ある日に貰う米の数のリスト (リストの長さはn_daysに等しい)\n",
        "    list_total_grains : list\n",
        "        ある日までに累計で貰う米の数のリスト (リストの長さはn_daysに等しい)\n",
        "    \"\"\"\n",
        "    n_grains = 1\n",
        "    list_n_grains = [n_grains]\n",
        "    list_total_grains = [list_n_grains[0]]\n",
        "    \n",
        "    for i in range(n_days-1):\n",
        "      list_n_grains.append(list_n_grains[-1]*2)\n",
        "      list_total_grains.append(list_total_grains[-1] + list_n_grains[-1])\n",
        "  \n",
        "    return list_n_grains, list_total_grains\n",
        "\n",
        "n_days =120\n",
        "list_n_grains, list_total_grains = compute_sorori_shinzaemon(n_days=n_days)\n",
        "\n",
        "print(\"{}日後にもらえる米粒は{}個です\".format(n_days,list_n_grains[-1]))\n",
        "print(\"{}日後の累計の米粒は{}個です\".format(n_days,list_total_grains[-1]))\n",
        "\n",
        "import matplotlib.pyplot as plt\n",
        "%matplotlib inline\n",
        "plt.title(\"SORORI_SHINZAEMON\")\n",
        "plt.xlabel(\"days\")\n",
        "plt.ylabel(\"grains\")\n",
        "plt.plot(range(1, n_days + 1),list_n_grains , label=\"one day\")  # その日もらう米粒\n",
        "plt.plot(range(1, n_days + 1),list_total_grains , label=\"total\")  # 累計\n",
        "plt.legend()\n",
        "plt.show()\n"
      ],
      "execution_count": 16,
      "outputs": [
        {
          "output_type": "stream",
          "name": "stdout",
          "text": [
            "120日後にもらえる米粒は664613997892457936451903530140172288個です\n",
            "120日後の累計の米粒は1329227995784915872903807060280344575個です\n"
          ]
        },
        {
          "output_type": "display_data",
          "data": {
            "image/png": "[encoded data removed]",
            "text/plain": [
              "<Figure size 432x288 with 1 Axes>"
            ]
          },
          "metadata": {
            "needs_background": "light"
          }
        }
      ]
    },
    {
      "cell_type": "markdown",
      "metadata": {
        "id": "IlNzRAkHCGA6"
      },
      "source": [
        "【問題3】何人が何日生活できる米か\n",
        "この米があれば何人が何日生活できるか計算する関数を作成してください。コースを受講する期間に貰える米粒で、このクラスにいる人数であれば、何日間生活できるかを出力してみましょう。\n",
        "\n",
        "関数の最低限の入力は 米粒の数(int) と 人数(int) 、出力は 生活できる日数(int) です。関数名やコメントなどは分かりやすく考えて作成してください。\n",
        "\n",
        "ここでは1日に必要な米粒の数は提示しません。自分なりに調べて、計算式に落とし込んでください。どう調べ、何を根拠にしたかもコメントを残しておいてください。作成しているので、この結果を引数とする新たな関数を作成します。\n",
        "\n",
        "必要な米粒の数や、1日のカロリーは根拠がしっかりとしていればどのような値でもOKです。"
      ]
    },
    {
      "cell_type": "code",
      "metadata": {
        "colab": {
          "base_uri": "https://localhost:8080/"
        },
        "id": "kuINGgR0tzuo",
        "outputId": "e7375da3-b093-4715-a72f-b4b17d51e386"
      },
      "source": [
        "\"\"\"\n",
        "この米が何日あれば何人が生活できるかを計算する関数\n",
        "\n",
        "Parameteres\n",
        "-----------\n",
        "➀米粒の数\n",
        "n_grains: int\n",
        "\n",
        "②人数\n",
        "n_people: int\n",
        "\n",
        "③１日に必要なコメ数\n",
        "needed_grains = 35 = 2500/72(１日に必要なカロリー/1粒のカロリー）\n",
        "\n",
        "Returns\n",
        "------------\n",
        "④暮らせる日数\n",
        "days_to_live: int\n",
        "\n",
        "\"\"\"\n",
        "def compute_how_many_days(n_grains,n_people,needed_grains = 35 ):\n",
        "    return n_grains / (n_people * needed_grains)\n",
        "\n",
        "n_days = 120\n",
        "n_people = 12\n",
        "\n",
        "_list_n_grains, list_total_grains = compute_sorori_shinzaemon(n_days=n_days) # 問題2の関数をそのまま使う。使わない返り値は_と置いておく。\n",
        "\n",
        "days_to_live = compute_how_many_days(list_total_grains[-1], n_people)\n",
        "\n",
        "print(\"{}人が{}日暮らせます。\".format(n_people, days_to_live))\n",
        "print(\"この時の米粒の数：{}\".format(list_total_grains[-1]))\n",
        "\n"
      ],
      "execution_count": 20,
      "outputs": [
        {
          "output_type": "stream",
          "name": "stdout",
          "text": [
            "12人が3.164828561392657e+33日暮らせます。\n",
            "この時の米粒の数：1329227995784915872903807060280344575\n"
          ]
        }
      ]
    },
    {
      "cell_type": "code",
      "metadata": {
        "id": "FMv37euPG84e"
      },
      "source": [
        ""
      ],
      "execution_count": null,
      "outputs": []
    }
  ]
}