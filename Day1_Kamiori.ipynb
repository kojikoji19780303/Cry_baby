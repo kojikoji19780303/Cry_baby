{
  "nbformat": 4,
  "nbformat_minor": 0,
  "metadata": {
    "colab": {
      "name": "Day1_Kamiori.ipynb",
      "provenance": [],
      "collapsed_sections": [],
      "authorship_tag": "ABX9TyO2Axk/Hv3viQElIK0O0sbT",
      "include_colab_link": true
    },
    "kernelspec": {
      "name": "python3",
      "display_name": "Python 3"
    },
    "language_info": {
      "name": "python"
    }
  },
  "cells": [
    {
      "cell_type": "markdown",
      "metadata": {
        "id": "view-in-github",
        "colab_type": "text"
      },
      "source": [
        "<a href=\"https://colab.research.google.com/github/kojikoji19780303/Cry_baby/blob/master/Day1_Kamiori.ipynb\" target=\"_parent\"><img src=\"https://colab.research.google.com/assets/colab-badge.svg\" alt=\"Open In Colab\"/></a>"
      ]
    },
    {
      "cell_type": "code",
      "metadata": {
        "id": "UmUjvb9k_8NI"
      },
      "source": [
        ""
      ],
      "execution_count": null,
      "outputs": []
    },
    {
      "cell_type": "markdown",
      "metadata": {
        "id": "boXw0D4lAAk1"
      },
      "source": [
        "【問題1】べき乗の算術演算子を使用した実装\n",
        "\n",
        "べき乗の算術演算子を使用したプログラムを作ってください。\n",
        "雛形として紙を1回折った時の厚さを計算するコードを用意しました。これを43回折った時のコードに書き換えてください。\n",
        "\n"
      ]
    },
    {
      "cell_type": "code",
      "metadata": {
        "colab": {
          "base_uri": "https://localhost:8080/"
        },
        "id": "816NM1faAD23",
        "outputId": "3c88222b-b7fa-49ea-d83b-e271343965ab"
      },
      "source": [
        "THICKNESS = 0.00008\n",
        "\n",
        "folded_thickness = THICKNESS * 2\n",
        "\n",
        "print(folded_thickness)"
      ],
      "execution_count": null,
      "outputs": [
        {
          "output_type": "stream",
          "name": "stdout",
          "text": [
            "0.00016\n"
          ]
        }
      ]
    },
    {
      "cell_type": "code",
      "metadata": {
        "colab": {
          "base_uri": "https://localhost:8080/"
        },
        "id": "ifhHdK55A-zi",
        "outputId": "e23c78a1-f13c-4f69-858a-91a3092406f0"
      },
      "source": [
        "THICKNESS = 0.00008\n",
        "\n",
        "folded = 43\n",
        "\n",
        "folded_thickness = THICKNESS *(2**folded)\n",
        "\n",
        "print(\"厚さ{}メートル\".format(folded_thickness))"
      ],
      "execution_count": null,
      "outputs": [
        {
          "output_type": "stream",
          "name": "stdout",
          "text": [
            "厚さ703687441.77664メートル\n"
          ]
        }
      ]
    },
    {
      "cell_type": "markdown",
      "metadata": {
        "id": "452-r_pRiSCM"
      },
      "source": [
        ""
      ]
    },
    {
      "cell_type": "markdown",
      "metadata": {
        "id": "oQLDJajkisUK"
      },
      "source": [
        "問題2】単位の変換\n",
        "単位がメートルだと実感が湧きづらいので、◯◯万キロメートル に変換して表示させてください。\n",
        "\n",
        "\n",
        "サンプルとして ◯◯キロメートル に変換したコードを用意したので、参考にして取り組んでください。小数点以下は2桁まで表示されるように指定しています。\n"
      ]
    },
    {
      "cell_type": "code",
      "metadata": {
        "colab": {
          "base_uri": "https://localhost:8080/"
        },
        "id": "Y2cvZhRMiuxN",
        "outputId": "7d09bd8d-d425-4730-dedc-4ace61630e53"
      },
      "source": [
        "THICKNESS = 0.00008\n",
        "\n",
        "folded = 43\n",
        "\n",
        "folded_thickness = THICKNESS *(2**folded)\n",
        "\n",
        "print(\"厚さ{:.2f}万km\".format(folded_thickness/1000/10000))"
      ],
      "execution_count": null,
      "outputs": [
        {
          "output_type": "stream",
          "name": "stdout",
          "text": [
            "厚さ70.37万km\n"
          ]
        }
      ]
    },
    {
      "cell_type": "markdown",
      "metadata": {
        "id": "tAmb6ZJvjPiy"
      },
      "source": [
        "問題3】for文を使用して作成\n",
        "次に、for文を使用したプログラムを作ってください。\n",
        "\n",
        "\n",
        "べき乗の算術演算子は使ってはいけません。算術演算子は四則演算（+、-、*、/）のみ使えます。"
      ]
    },
    {
      "cell_type": "code",
      "metadata": {
        "colab": {
          "base_uri": "https://localhost:8080/"
        },
        "id": "fXpYHau7BXxR",
        "outputId": "56c47234-5bc5-4176-ec41-374b74d93e94"
      },
      "source": [
        "THICKNESS = 0.00008\n",
        "folded = 43\n",
        "folded_thickness = THICKNESS *2\n",
        "\n",
        "for i in range(folded-1):\n",
        "  folded_thickness = folded_thickness *2\n",
        "\n",
        "print(\"厚さ{:.2f}万キロメートル\".format(folded_thickness/1000/10000)) \n"
      ],
      "execution_count": null,
      "outputs": [
        {
          "output_type": "stream",
          "name": "stdout",
          "text": [
            "厚さ70.37万キロメートル\n"
          ]
        }
      ]
    },
    {
      "cell_type": "markdown",
      "metadata": {
        "id": "IQc0WJCNtPz8"
      },
      "source": [
        "【問題4】計算時間の比較\n",
        "以上の2つの方法はどちらも正しいですが、コードの良さを比較する際には例えば以下のような点で評価されます。\n",
        "\n",
        "\n",
        "実行速度\n",
        "メモリの使用量\n",
        "可読性\n",
        "拡張性\n",
        "再利用性\n",
        "\n",
        "今回は実行速度を比較してみます。\n",
        "\n",
        "\n",
        "以下の雛形を使用して、2つの方法の実行時間を出力して、比較してください。変数の定義や print 文など、どちらの方法でも使われている部分は除いた範囲の時間を比較してください。"
      ]
    },
    {
      "cell_type": "code",
      "metadata": {
        "colab": {
          "base_uri": "https://localhost:8080/"
        },
        "id": "Bf5MJggXtikM",
        "outputId": "dc023e0e-ee07-4bb2-b104-8864aec4dd2f"
      },
      "source": [
        "import time\n",
        "start = time.time()\n",
        "#####\n",
        "THICKNESS = 0.00008\n",
        "folded = 100\n",
        "folded_thickness = THICKNESS *(2**folded)\n",
        "print(\"厚さ{:.2f}万km\".format(folded_thickness/1000/10000))\n",
        "#####\n",
        "elapsed_time = time.time() - start\n",
        "print(\"time : {}[s]\".format(elapsed_time))"
      ],
      "execution_count": null,
      "outputs": [
        {
          "output_type": "stream",
          "name": "stdout",
          "text": [
            "厚さ10141204801825835008.00万km\n",
            "time : 0.0002713203430175781[s]\n"
          ]
        }
      ]
    },
    {
      "cell_type": "code",
      "metadata": {
        "colab": {
          "base_uri": "https://localhost:8080/"
        },
        "id": "kSbPYI82t1Hn",
        "outputId": "4945e3b2-4365-41f6-85bd-4cf5b31b66de"
      },
      "source": [
        "import time\n",
        "start = time.time()\n",
        "#####\n",
        "THICKNESS = 0.00008\n",
        "folded = 100\n",
        "folded_thickness = THICKNESS *2\n",
        "\n",
        "for i in range(folded-1):\n",
        "  folded_thickness = folded_thickness *2\n",
        "\n",
        "print(\"厚さ{:.2f}万キロメートル\".format(folded_thickness/1000/10000)) \n",
        "#####\n",
        "elapsed_time = time.time() - start\n",
        "print(\"time : {}[s]\".format(elapsed_time))"
      ],
      "execution_count": null,
      "outputs": [
        {
          "output_type": "stream",
          "name": "stdout",
          "text": [
            "厚さ10141204801825835008.00万キロメートル\n",
            "time : 0.0035288333892822266[s]\n"
          ]
        }
      ]
    },
    {
      "cell_type": "code",
      "metadata": {
        "id": "7MSziypnt1i6"
      },
      "source": [
        "%%timeit\n",
        "#####\n",
        "THICKNESS = 0.00008\n",
        "folded = 43\n",
        "folded_thickness = THICKNESS *(2**folded)\n",
        "print(\"厚さ{:.2f}万km\".format(folded_thickness/1000/10000))\n",
        "#####"
      ],
      "execution_count": null,
      "outputs": []
    },
    {
      "cell_type": "markdown",
      "metadata": {
        "id": "VHmISm9Qvv8C"
      },
      "source": [
        "【問題5】リストへの保存\n",
        "ここまでは43回折った後の最後の値だけを使用していましたが、グラフで可視化するためには過程の値も必要です。for文を使用したコードに、過程の値合計44個を記録するコードを加えてください。\n",
        "\n",
        "\n",
        "《ヒント》\n",
        "\n",
        "\n",
        "まず、空のリストを作成する。\n",
        "次に、折る前の値をリストに追加する。\n",
        "for文の中でn回までの紙を折る過程の値をリストに追加していく。\n",
        "\n",
        "最終的にリストに44個の値が格納されていることを len 関数を用いて確認しておきましょう。"
      ]
    },
    {
      "cell_type": "code",
      "metadata": {
        "id": "ZojuzDltwWM6",
        "colab": {
          "base_uri": "https://localhost:8080/"
        },
        "outputId": "c1a02d4c-7df4-4446-f5db-341b66f9cdce"
      },
      "source": [
        "THICKNESS = 0.00008\n",
        "folded = 43\n",
        "\n",
        "folded_thickness_list = [THICKNESS]\n",
        "for i in range(folded):\n",
        "  folded_thickness_list.append(folded_thickness_list[-1]*2)\n",
        "\n",
        "print(folded_thickness_list[-1])\n",
        "\n",
        "print(len(folded_thickness_list))\n"
      ],
      "execution_count": 11,
      "outputs": [
        {
          "output_type": "stream",
          "name": "stdout",
          "text": [
            "703687441.77664\n",
            "44\n"
          ]
        }
      ]
    },
    {
      "cell_type": "markdown",
      "metadata": {
        "id": "fwEPLuWXQlTA"
      },
      "source": [
        "問題6】折れ線グラフの表示\n",
        "グラフの描画には Matplotlib という ライブラリ を用います。リストへ記録するコードの後ろで以下の雛形を使用してください。"
      ]
    },
    {
      "cell_type": "code",
      "metadata": {
        "colab": {
          "base_uri": "https://localhost:8080/",
          "height": 295
        },
        "id": "N2NKrm7XMUhq",
        "outputId": "cca58601-89fa-417c-b83d-e381af287d3a"
      },
      "source": [
        "import matplotlib.pyplot as plt\n",
        "%matplotlib inline\n",
        "# グラフを表示する。タイトルと軸ラベル名付き。\n",
        "plt.title(\"thickness of folded paper\")\n",
        "plt.xlabel(\"number of folds\")\n",
        "plt.ylabel(\"thickness [m]\")\n",
        "plt.plot(folded_thickness_list)  # 「リスト名」のところにリストの変数名を入れる\n",
        "plt.show()"
      ],
      "execution_count": 12,
      "outputs": [
        {
          "output_type": "display_data",
          "data": {
            "image/png": "[encoded data removed]",
            "text/plain": [
              "<Figure size 432x288 with 1 Axes>"
            ]
          },
          "metadata": {
            "needs_background": "light"
          }
        }
      ]
    },
    {
      "cell_type": "markdown",
      "metadata": {
        "id": "XP7e8A2BbyXj"
      },
      "source": [
        "【問題7】グラフのカスタマイズ\n",
        "グラフをより見やすくカスタマイズしてみましょう。カスタマイズしたグラフを最低3種類作成してください。例えば以下のように書き換えることで、線の色を赤に変更できます。"
      ]
    },
    {
      "cell_type": "code",
      "metadata": {
        "colab": {
          "base_uri": "https://localhost:8080/",
          "height": 295
        },
        "id": "_sd9tDsPRXeU",
        "outputId": "f69f47d2-4afb-4e22-9def-f2b84c56c27b"
      },
      "source": [
        "# 緑色の折れ線グラフを表示する。\n",
        "plt.title(\"thickness of folded paper\")\n",
        "plt.xlabel(\"number of folds\")\n",
        "plt.ylabel(\"thickness [m]\")\n",
        "plt.plot(folded_thickness_list, color='green')\n",
        "plt.show()"
      ],
      "execution_count": 14,
      "outputs": [
        {
          "output_type": "display_data",
          "data": {
            "image/png": "[encoded data removed]",
            "text/plain": [
              "<Figure size 432x288 with 1 Axes>"
            ]
          },
          "metadata": {
            "needs_background": "light"
          }
        }
      ]
    },
    {
      "cell_type": "code",
      "metadata": {
        "colab": {
          "base_uri": "https://localhost:8080/",
          "height": 327
        },
        "id": "J42cMxfgb6o0",
        "outputId": "621baaed-032b-45a1-c9af-dbc3f5cfcddf"
      },
      "source": [
        "# フォントサイズを大きくする。\n",
        "plt.title(\"thickness of folded paper\",fontsize=  30)\n",
        "plt.xlabel(\"number of folds\",fontsize=  30)\n",
        "plt.ylabel(\"thickness [m]\",fontsize=  30)\n",
        "plt.plot(folded_thickness_list, color='yellow')\n",
        "plt.show()"
      ],
      "execution_count": 21,
      "outputs": [
        {
          "output_type": "display_data",
          "data": {
            "image/png": "[encoded data removed]",
            "text/plain": [
              "<Figure size 432x288 with 1 Axes>"
            ]
          },
          "metadata": {
            "needs_background": "light"
          }
        }
      ]
    },
    {
      "cell_type": "code",
      "metadata": {
        "colab": {
          "base_uri": "https://localhost:8080/",
          "height": 314
        },
        "id": "oetzajSbcQPr",
        "outputId": "68b50eec-215a-46d1-9bff-eb9223403f9f"
      },
      "source": [
        "# ラインを点線にして太くする\n",
        "plt.title(\"thickness of folded paper\")\n",
        "plt.xlabel(\"number of folds\",fontsize=  30)\n",
        "plt.ylabel(\"thickness [m]\")\n",
        "plt.plot(folded_thickness_list, color=\"red\",linewidth=4,linestyle = \"dashed\")\n",
        "plt.show()"
      ],
      "execution_count": 20,
      "outputs": [
        {
          "output_type": "display_data",
          "data": {
            "image/png": "[encoded data removed]",
            "text/plain": [
              "<Figure size 432x288 with 1 Axes>"
            ]
          },
          "metadata": {
            "needs_background": "light"
          }
        }
      ]
    },
    {
      "cell_type": "code",
      "metadata": {
        "id": "G4IfOljjdKeg"
      },
      "source": [
        ""
      ],
      "execution_count": null,
      "outputs": []
    }
  ]
}