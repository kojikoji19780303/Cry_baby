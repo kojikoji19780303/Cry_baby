{
  "nbformat": 4,
  "nbformat_minor": 0,
  "metadata": {
    "colab": {
      "name": "栗まんじゅう問題_課題提出.ipynb",
      "provenance": [],
      "authorship_tag": "ABX9TyMVQOxGcQin2j+i5RyH+mKK",
      "include_colab_link": true
    },
    "kernelspec": {
      "name": "python3",
      "display_name": "Python 3"
    },
    "language_info": {
      "name": "python"
    }
  },
  "cells": [
    {
      "cell_type": "markdown",
      "metadata": {
        "id": "view-in-github",
        "colab_type": "text"
      },
      "source": [
        "<a href=\"https://colab.research.google.com/github/kojikoji19780303/Cry_baby/blob/master/DAY4_%E6%A0%97%E3%81%BE%E3%82%93%E3%81%98%E3%82%85%E3%81%86%E5%95%8F%E9%A1%8C_%E8%AA%B2%E9%A1%8C%E6%8F%90%E5%87%BA.ipynb\" target=\"_parent\"><img src=\"https://colab.research.google.com/assets/colab-badge.svg\" alt=\"Open In Colab\"/></a>"
      ]
    },
    {
      "cell_type": "markdown",
      "source": [
        "【問題】栗まんじゅうが太陽系を覆う日 1個の栗まんじゅうにバイバインを振りかけた場合、太陽系が栗まんじゅうで覆われるのは何分後でしょうか。これを計算するプログラムを作成してください。"
      ],
      "metadata": {
        "id": "Pb7TWDAV9p6L"
      }
    },
    {
      "cell_type": "code",
      "source": [
        "# 「バイバイン」は薬品で、これを振掛けるとその物体は5分ごとに倍に増える\n",
        "#  球体の体積 =　3/4 πr^3\n",
        "# mathモジュールをインポート\n",
        "import math\n",
        "# mathモジュールから円周率の近似値をインポート\n",
        "from math import pi\n",
        "pi"
      ],
      "metadata": {
        "colab": {
          "base_uri": "https://localhost:8080/"
        },
        "id": "KsmnTuB-9qxr",
        "outputId": "d27db490-df7c-473f-dfec-64db9707d680"
      },
      "execution_count": 6,
      "outputs": [
        {
          "output_type": "execute_result",
          "data": {
            "text/plain": [
              "3.141592653589793"
            ]
          },
          "metadata": {},
          "execution_count": 6
        }
      ]
    },
    {
      "cell_type": "code",
      "source": [
        "# インポート\n",
        "import matplotlib.pyplot as plt\n",
        "%matplotlib inline"
      ],
      "metadata": {
        "id": "ILOFWiIt9ysZ"
      },
      "execution_count": 7,
      "outputs": []
    },
    {
      "cell_type": "code",
      "source": [
        "#  栗まんじゅうの半径をrcmとしたときの体積\n",
        "#  cm をkmに変換　 r * 1/100000\n",
        "kurimanju_r = 2\n",
        "m = 1/100000\n",
        "kurimanju_volume = float(3/4*pi*kurimanju_r*m**3)\n",
        "kurimanju_volume"
      ],
      "metadata": {
        "colab": {
          "base_uri": "https://localhost:8080/"
        },
        "id": "m6P7f6qr91Nz",
        "outputId": "5b83980b-7a71-4a7b-80b8-48595c9f3bfc"
      },
      "execution_count": 8,
      "outputs": [
        {
          "output_type": "execute_result",
          "data": {
            "text/plain": [
              "4.712388980384691e-15"
            ]
          },
          "metadata": {},
          "execution_count": 8
        }
      ]
    },
    {
      "cell_type": "code",
      "source": [
        "# 太陽系の直径を約280億kmとしたときの体積\n",
        "# rの単位はkm\n",
        "solar_r = 1400000000000000000/100000000\n",
        "solar_volume = float(3/4*pi*solar_r**3)\n",
        "solar_volume"
      ],
      "metadata": {
        "colab": {
          "base_uri": "https://localhost:8080/"
        },
        "id": "s4MCvRrf94Bf",
        "outputId": "67919fe1-12fc-4fd8-ac3d-45a4a0a41f22"
      },
      "execution_count": 9,
      "outputs": [
        {
          "output_type": "execute_result",
          "data": {
            "text/plain": [
              "6.465397681087794e+30"
            ]
          },
          "metadata": {},
          "execution_count": 9
        }
      ]
    },
    {
      "cell_type": "markdown",
      "source": [
        "1個の栗まんじゅうにバイバインを振りかけた場合、太陽系が栗まんじゅうで覆われるのは何分後でしょうか。これを計算するプログラムを作成してください。"
      ],
      "metadata": {
        "id": "HTOh3qGv96z2"
      }
    },
    {
      "cell_type": "code",
      "source": [
        "# 汎用的なプログラム（関数）にする\n",
        "# 条件文には while True構文を使う\n",
        "# Aの体積　A_vol\n",
        "# Bの体積　B_vol\n",
        "# 大きくなる時間　baybay_min\n",
        "# Bの体積リスト　list_B_vol\n",
        "\n",
        "def baybayn(A_vol, B_vol, baybayn_min=5 ):\n",
        "    list_B_vol = [B_vol]\n",
        "    count = 0\n",
        "    while True:\n",
        "        count = count + 1\n",
        "        list_B_vol.append(list_B_vol[-1]*2)\n",
        "        if list_B_vol[-1] >= A_vol:\n",
        "            break\n",
        "    minutes = count * baybayn_min\n",
        "    return minutes , count , list_B_vol\n",
        "\n",
        "baybayn_min = 5\n",
        "\n",
        "solar_r = 1400000000000000000/100000000\n",
        "solar_volume = float(3/4*pi*solar_r**3)\n",
        "\n",
        "kurimanju_r = 2\n",
        "m = 1/100000\n",
        "kurimanju_volume = float(3/4*pi*kurimanju_r*m**3)\n",
        "\n",
        "A_vol = solar_volume\n",
        "B_vol = kurimanju_volume\n",
        "\n",
        "minutes, count , list_B_vol = baybayn(A_vol, B_vol, baybayn_min=baybayn_min)\n",
        "\n",
        "print(\"{}回倍になる{}分で覆われる\".format(count,minutes))\n",
        "\n",
        "plt.plot(range(0, minutes + baybayn_min, baybayn_min), list_B_vol)\n",
        "plt.hlines(A_vol,0,minutes)\n"
      ],
      "metadata": {
        "colab": {
          "base_uri": "https://localhost:8080/",
          "height": 312
        },
        "id": "yhGtFFaS976L",
        "outputId": "de78fd9f-8200-467c-fe05-45617510cd07"
      },
      "execution_count": 22,
      "outputs": [
        {
          "output_type": "stream",
          "name": "stdout",
          "text": [
            "150回倍になる750分で覆われる\n"
          ]
        },
        {
          "output_type": "execute_result",
          "data": {
            "text/plain": [
              "<matplotlib.collections.LineCollection at 0x7f230ceb7a90>"
            ]
          },
          "metadata": {},
          "execution_count": 22
        },
        {
          "output_type": "display_data",
          "data": {
            "image/png": "[encoded data removed]",
            "text/plain": [
              "<Figure size 432x288 with 1 Axes>"
            ]
          },
          "metadata": {
            "needs_background": "light"
          }
        }
      ]
    }
  ]
}