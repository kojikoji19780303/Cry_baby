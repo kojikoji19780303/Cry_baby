{
  "nbformat": 4,
  "nbformat_minor": 0,
  "metadata": {
    "colab": {
      "name": "DAY7_行列積の実装_課題提出.ipynb",
      "provenance": [],
      "authorship_tag": "ABX9TyNpWNv5zzjpn9owUdxy5v9/",
      "include_colab_link": true
    },
    "kernelspec": {
      "name": "python3",
      "display_name": "Python 3"
    },
    "language_info": {
      "name": "python"
    }
  },
  "cells": [
    {
      "cell_type": "markdown",
      "metadata": {
        "id": "view-in-github",
        "colab_type": "text"
      },
      "source": [
        "<a href=\"https://colab.research.google.com/github/kojikoji19780303/Cry_baby/blob/master/DAY7_%E8%A1%8C%E5%88%97%E7%A9%8D%E3%81%AE%E5%AE%9F%E8%A3%85_%E8%AA%B2%E9%A1%8C%E6%8F%90%E5%87%BA.ipynb\" target=\"_parent\"><img src=\"https://colab.research.google.com/assets/colab-badge.svg\" alt=\"Open In Colab\"/></a>"
      ]
    },
    {
      "cell_type": "code",
      "execution_count": 17,
      "metadata": {
        "id": "-X6m51Ct_5v3"
      },
      "outputs": [],
      "source": [
        "import numpy as np\n",
        "a_ndarray = np.array([[-1, 2, 3], [4, -5, 6], [7, 8, -9]])\n",
        "b_ndarray = np.array([[0, 2, 1], [0, 2, -8], [2, 9, -1]])"
      ]
    },
    {
      "cell_type": "markdown",
      "source": [
        "【問題1】行列積を手計算する\n",
        "\n",
        "AとBの行列積を手計算で解いてください。"
      ],
      "metadata": {
        "id": "gw5f8IUeAKAG"
      }
    },
    {
      "cell_type": "code",
      "source": [
        "# 手計算\n",
        "# -1*0 + 2*0 + 3*2\n",
        "# -1*2 + 2*2 + 3*9 \n",
        "# -1*1 + 2*-8 + 3*-1\n",
        "# 4*0 + -5*0 +6*2 \n",
        "# 4*2 + -5*2 +6*9\n",
        "# 4*1 + -5*-8 +6*-1\n",
        "# 7*0 + 8*0 + -9*2\n",
        "# 7*2 + 8*2 + -9*9\n",
        "# 7*1 + 8*-8 + -9*-1"
      ],
      "metadata": {
        "id": "NlLOxCE3Acax"
      },
      "execution_count": 18,
      "outputs": []
    },
    {
      "cell_type": "code",
      "source": [
        "a =-1*0 + 2*0 + 3*2\n",
        "b = -1*2 + 2*2 + 3*9\n",
        "c = -1*1 + 2*-8 + 3*-1\n",
        "d =4*0 + -5*0 +6*2 \n",
        "e =4*2 + -5*2 +6*9\n",
        "f =4*1 + -5*-8 +6*-1\n",
        "g =7*0 + 8*0 + -9*2\n",
        "h =7*2 + 8*2 + -9*9\n",
        "i =7*1 + 8*-8 + -9*-1\n",
        "list=[a,b,c,d,e,f,g,h,i]\n",
        "list"
      ],
      "metadata": {
        "colab": {
          "base_uri": "https://localhost:8080/"
        },
        "id": "a59swiBACuHR",
        "outputId": "d0336939-25ba-4de1-ed87-d65d7c556a8b"
      },
      "execution_count": 25,
      "outputs": [
        {
          "output_type": "execute_result",
          "data": {
            "text/plain": [
              "[6, 29, -20, 12, 52, 38, -18, -51, -48]"
            ]
          },
          "metadata": {},
          "execution_count": 25
        }
      ]
    },
    {
      "cell_type": "code",
      "source": [
        "n_list = np.array(list)\n",
        "n_list"
      ],
      "metadata": {
        "colab": {
          "base_uri": "https://localhost:8080/"
        },
        "id": "24Ov_XLgCqbm",
        "outputId": "57d01e40-8faf-4fda-f259-96e09472dc23"
      },
      "execution_count": 27,
      "outputs": [
        {
          "output_type": "execute_result",
          "data": {
            "text/plain": [
              "array([  6,  29, -20,  12,  52,  38, -18, -51, -48])"
            ]
          },
          "metadata": {},
          "execution_count": 27
        }
      ]
    },
    {
      "cell_type": "code",
      "source": [
        "n_array = n_list.reshape(3,3)\n",
        "n_array"
      ],
      "metadata": {
        "colab": {
          "base_uri": "https://localhost:8080/"
        },
        "id": "uE3cwID-FIco",
        "outputId": "34fb446a-e739-4565-caf9-0700b1acd012"
      },
      "execution_count": 31,
      "outputs": [
        {
          "output_type": "execute_result",
          "data": {
            "text/plain": [
              "array([[  6,  29, -20],\n",
              "       [ 12,  52,  38],\n",
              "       [-18, -51, -48]])"
            ]
          },
          "metadata": {},
          "execution_count": 31
        }
      ]
    },
    {
      "cell_type": "markdown",
      "source": [
        "【問題2】NumPyの関数による計算\n",
        "\n",
        "この行列積はNumPyのnp.matmul()やnp.dot()、または@演算子を使うことで簡単に計算できます。"
      ],
      "metadata": {
        "id": "rDk0b9nCGMk3"
      }
    },
    {
      "cell_type": "code",
      "source": [
        "# np.matmul\n",
        "import numpy as np\n",
        "a_ndarray = np.array([[-1, 2, 3], [4, -5, 6], [7, 8, -9]])\n",
        "b_ndarray = np.array([[0, 2, 1], [0, 2, -8], [2, 9, -1]])\n",
        "\n",
        "a = np.matmul(a_ndarray, b_ndarray)\n",
        "a"
      ],
      "metadata": {
        "colab": {
          "base_uri": "https://localhost:8080/"
        },
        "id": "WOX0dgv1GOm7",
        "outputId": "f2ab17d5-7ba3-4035-93ee-737154d3dccb"
      },
      "execution_count": 33,
      "outputs": [
        {
          "output_type": "execute_result",
          "data": {
            "text/plain": [
              "array([[  6,  29, -20],\n",
              "       [ 12,  52,  38],\n",
              "       [-18, -51, -48]])"
            ]
          },
          "metadata": {},
          "execution_count": 33
        }
      ]
    },
    {
      "cell_type": "markdown",
      "source": [
        "【問題3】ある要素の計算を実装"
      ],
      "metadata": {
        "id": "20Q43wFwH95A"
      }
    },
    {
      "cell_type": "code",
      "source": [
        "#Aの0行目とBの0列目\n",
        "a_ndarray = np.array([[-1, 2, 3], [4, -5, 6], [7, 8, -9]])\n",
        "b_ndarray = np.array([[0, 2, 1], [0, 2, -8], [2, 9, -1]])\n",
        "\n",
        "mul00 = (a_ndarray[0,:]*b_ndarray[:, 0]).sum()\n",
        "mul00"
      ],
      "metadata": {
        "colab": {
          "base_uri": "https://localhost:8080/"
        },
        "id": "0Up7-00OIAeZ",
        "outputId": "8a4152b5-9998-4196-e64c-953b71b3426e"
      },
      "execution_count": 35,
      "outputs": [
        {
          "output_type": "execute_result",
          "data": {
            "text/plain": [
              "6"
            ]
          },
          "metadata": {},
          "execution_count": 35
        }
      ]
    },
    {
      "cell_type": "code",
      "source": [
        "#Aの0行目とBの1列目\n",
        "mul01 = (a_ndarray[0,:]*b_ndarray[:, 1]).sum()\n",
        "mul01"
      ],
      "metadata": {
        "colab": {
          "base_uri": "https://localhost:8080/"
        },
        "id": "nfIbvKS_JKlr",
        "outputId": "984deeef-1d60-45b1-8668-4d58148efd1d"
      },
      "execution_count": 36,
      "outputs": [
        {
          "output_type": "execute_result",
          "data": {
            "text/plain": [
              "29"
            ]
          },
          "metadata": {},
          "execution_count": 36
        }
      ]
    },
    {
      "cell_type": "markdown",
      "source": [
        "【問題4】行列積を行う関数の作成"
      ],
      "metadata": {
        "id": "u15T2dKhJbSH"
      }
    },
    {
      "cell_type": "code",
      "source": [
        "c = np.empty((2,2))\n",
        "c"
      ],
      "metadata": {
        "colab": {
          "base_uri": "https://localhost:8080/"
        },
        "id": "6klQdG-yKSUC",
        "outputId": "7116c293-20f9-4b84-c9f8-87a742e00503"
      },
      "execution_count": 37,
      "outputs": [
        {
          "output_type": "execute_result",
          "data": {
            "text/plain": [
              "array([[5.e-324, 5.e-324],\n",
              "       [5.e-324, 0.e+000]])"
            ]
          },
          "metadata": {},
          "execution_count": 37
        }
      ]
    },
    {
      "cell_type": "code",
      "source": [
        "def gyouretuseki(a, b):\n",
        "\n",
        "    c = np.empty((a.shape[0], b.shape[1]))\n",
        "\n",
        "    for i in range(a.shape[0]):\n",
        "        for j in range(b.shape[1]):\n",
        "            c[i, j] = (a[i,:]*b[:, j]).sum()\n",
        "    return c\n",
        "\n",
        "a_ndarray = np.array([[-1, 2, 3], [4, -5, 6], [7, 8, -9]])\n",
        "b_ndarray = np.array([[0, 2, 1], [0, 2, -8], [2, 9, -1]])\n",
        "gyouretuseki(a_ndarray, b_ndarray)"
      ],
      "metadata": {
        "colab": {
          "base_uri": "https://localhost:8080/"
        },
        "id": "c3HLo-C6IaZh",
        "outputId": "de6f0204-fb56-4a2a-9d37-0fb6ae9d1d08"
      },
      "execution_count": 38,
      "outputs": [
        {
          "output_type": "execute_result",
          "data": {
            "text/plain": [
              "array([[  6.,  29., -20.],\n",
              "       [ 12.,  52.,  38.],\n",
              "       [-18., -51., -48.]])"
            ]
          },
          "metadata": {},
          "execution_count": 38
        }
      ]
    },
    {
      "cell_type": "markdown",
      "source": [
        "4.行列積が定義されない組み合わせの行列"
      ],
      "metadata": {
        "id": "D3a6L1JtLy2E"
      }
    },
    {
      "cell_type": "code",
      "source": [
        "def gyouretuseki(a, b):\n",
        "    c = np.empty((a.shape[0], b.shape[1]))\n",
        "\n",
        "    if a.shape[1] == b.shape[0]: #aの列数とbの行数を比較し、等しい時だけ計算する。\n",
        "        c = (a[:, np.newaxis, :]*b.T).sum(axis=2)\n",
        "        return c\n",
        "    else:\n",
        "        print(\"a.shape[1] != b.shape[0] : {} != {}\".format(a.shape[1], b.shape[0]))\n",
        "        return None\n",
        "        \n",
        "d = np.array([[-1, 2, 3], [4, -5, 6]])\n",
        "e = np.array([[-9, 8, 7], [6, -5, 4]])\n",
        "print(\"計算結果\\n{}\".format(gyouretuseki(d, e)))"
      ],
      "metadata": {
        "colab": {
          "base_uri": "https://localhost:8080/"
        },
        "id": "qPb-mB3mL0wu",
        "outputId": "19ca423f-d371-4502-8411-959c10957623"
      },
      "execution_count": 43,
      "outputs": [
        {
          "output_type": "stream",
          "name": "stdout",
          "text": [
            "a.shape[1] != b.shape[0] : 3 != 2\n",
            "計算結果\n",
            "None\n"
          ]
        }
      ]
    },
    {
      "cell_type": "code",
      "source": [
        "【問題6】転置\n",
        "片方の行列を転置することで、行列積が計算できるようになります。\n",
        "np.transpose()や.Tアトリビュートを用いて転置し、行列積を計算してください。"
      ],
      "metadata": {
        "id": "9XwKAE4WMJ2p"
      },
      "execution_count": null,
      "outputs": []
    },
    {
      "cell_type": "code",
      "source": [
        "d = np.array([[-1, 2, 3], [4, -5, 6]])\n",
        "e = np.array([[-9, 8, 7], [6, -5, 4]])\n",
        "\n",
        "print(\"計算結果：\\n{}\".format(d.T@e))"
      ],
      "metadata": {
        "colab": {
          "base_uri": "https://localhost:8080/"
        },
        "id": "-B-LNr64NU7X",
        "outputId": "200e4f75-e0db-4b8c-d1d6-2921bda1c5e8"
      },
      "execution_count": 45,
      "outputs": [
        {
          "output_type": "stream",
          "name": "stdout",
          "text": [
            "計算結果：\n",
            "[[ 33 -28   9]\n",
            " [-48  41  -6]\n",
            " [  9  -6  45]]\n"
          ]
        }
      ]
    },
    {
      "cell_type": "code",
      "source": [
        ""
      ],
      "metadata": {
        "id": "7CfCPF1JN1nB"
      },
      "execution_count": null,
      "outputs": []
    }
  ]
}