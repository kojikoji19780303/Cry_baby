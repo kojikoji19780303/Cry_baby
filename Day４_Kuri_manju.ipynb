{
  "nbformat": 4,
  "nbformat_minor": 0,
  "metadata": {
    "colab": {
      "name": "Day４_Kuri_manju.ipynb",
      "provenance": [],
      "collapsed_sections": [],
      "authorship_tag": "ABX9TyNp5SCakFJZ52e3bvTH1Bxa",
      "include_colab_link": true
    },
    "kernelspec": {
      "name": "python3",
      "display_name": "Python 3"
    },
    "language_info": {
      "name": "python"
    }
  },
  "cells": [
    {
      "cell_type": "markdown",
      "metadata": {
        "id": "view-in-github",
        "colab_type": "text"
      },
      "source": [
        "<a href=\"https://colab.research.google.com/github/kojikoji19780303/Cry_baby/blob/master/Day%EF%BC%94_Kuri_manju.ipynb\" target=\"_parent\"><img src=\"https://colab.research.google.com/assets/colab-badge.svg\" alt=\"Open In Colab\"/></a>"
      ]
    },
    {
      "cell_type": "markdown",
      "metadata": {
        "id": "4F5heAYom-nW"
      },
      "source": [
        "「バイバイン」は薬品で、これを振掛けるとその物体は5分ごとに倍に増えるという働きがあります。作中では栗まんじゅうを増やしますが、食べきれなくなったためロケットを使い宇宙に捨てました。\n"
      ]
    },
    {
      "cell_type": "markdown",
      "metadata": {
        "id": "Q9wfTUna60bP"
      },
      "source": [
        "\n",
        "\n",
        "【問題】栗まんじゅうが太陽系を覆う日\n",
        "1個の栗まんじゅうにバイバインを振りかけた場合、太陽系が栗まんじゅうで覆われるのは何分後でしょうか。これを計算するプログラムを作成してください。\n",
        "\n",
        "\n",
        "栗まんじゅうや太陽系の体積を調査した上で仮定して計算してください。栗まんじゅうの隙間や重力などは考えず、問題を単純化して構いません。\n",
        "\n",
        "\n",
        "ボールにバイバインを振りかけた時、東京ドームが一杯になる時間など他の状況にも適用できるような汎用的なプログラムを作成してください。また、グラフを表示するなど分かりやすいノートブックを作成してください。"
      ]
    },
    {
      "cell_type": "code",
      "metadata": {
        "id": "jWMsS-tn7MwY"
      },
      "source": [
        ""
      ],
      "execution_count": null,
      "outputs": []
    },
    {
      "cell_type": "code",
      "metadata": {
        "id": "0-Pf4DeZ7M04",
        "colab": {
          "base_uri": "https://localhost:8080/"
        },
        "outputId": "a6318dc2-5354-4d6b-aed5-26ed517f1441"
      },
      "source": [
        "import math\n",
        "def compute_volume(radius=2/1000/100000000,volume_solar_system = math.pi*4/3*183**3):\n",
        "    \"\"\"\n",
        "    5分おきに倍になるくりまんじゅうの体積を計算する関数\n",
        "    Prameteres\n",
        "    --------------\n",
        "   栗饅頭の体積\n",
        "    volume = 4/3*π*r*r*r\n",
        "    半径 radius　単位はcm デフォルトは2cm\n",
        "    2cm　を　km　に変換　2/1000\n",
        "    2/1000km　を　億kmに変換　2/1000/100000000\n",
        "    volume_kurimanju = math.pi*4/3*2/1000/100000000**3\n",
        "\n",
        "    #太陽系の大きさ\n",
        "    ボイジャー1号が太陽圏離脱と判定された距離だと太陽から183億km\n",
        "　　この半径の球体とするなら太陽圏直径は366億kmとなる。\n",
        "　　volume_solar_system = math.pi*4/3*183**3\n",
        "\n",
        "    Returns\n",
        "   --------------\n",
        "    n_time : int\n",
        "    　経過した時間。単位は分\n",
        "    \"\"\"\n",
        "    volume_kurimanju_list=[math.pi*4/3*radius**3]\n",
        "    n_time = 0\n",
        "\n",
        "    while True:\n",
        "          n_time = n_time +5\n",
        "          volume_kurimanju_list.append(volume_kurimanju_list[-1]*2)\n",
        "          if volume_kurimanju_list[-1] > volume_solar_system:\n",
        "             return n_time\n",
        "\n",
        "n_time = compute_volume()\n",
        "\n",
        "print(\"{}分後に太陽系の体積を超える\".format(n_time))\n"
      ],
      "execution_count": null,
      "outputs": [
        {
          "output_type": "stream",
          "name": "stdout",
          "text": [
            "650分後に太陽系の体積を超える\n"
          ]
        }
      ]
    },
    {
      "cell_type": "code",
      "metadata": {
        "id": "efF-l3i7rFhf",
        "colab": {
          "base_uri": "https://localhost:8080/",
          "height": 313
        },
        "outputId": "b8f0b51b-3265-4f28-941c-ac5be3fff455"
      },
      "source": [
        "import math\n",
        "\n",
        "radius_kurimanju=2/100\n",
        "volume_kurimanju_list = [math.pi*4/3*radius_kurimanju**3]\n",
        "\n",
        "# 東京ドーム　46,755平方メートル\n",
        "def compute_volume(radius_kurimanju=2/100,n_volume=46755):\n",
        "    n_time = 0\n",
        "\n",
        "    while True:\n",
        "          n_time = n_time +5\n",
        "          volume_kurimanju_list.append(volume_kurimanju_list[-1]*2)\n",
        "          if volume_kurimanju_list[-1] > n_volume:\n",
        "             return n_time\n",
        "\n",
        "n_time = compute_volume()\n",
        "\n",
        "print(\"{}分後に東京ドームの体積を超える\".format(n_time))\n",
        "\n",
        "\n",
        "import matplotlib.pyplot as plt\n",
        "\n",
        "%matplotlib inline\n",
        "\n",
        "# グラフを表示する。タイトルと軸ラベル名付き。\n",
        "plt.title(\"compute_volume_kurimanju\")\n",
        "plt.xlabel(\"1/5time\")\n",
        "plt.ylabel(\"volume\")\n",
        "plt.plot(volume_kurimanju_list)  # 「リスト名」のところにリストの変数名を入れる\n",
        "plt.show()\n"
      ],
      "execution_count": 5,
      "outputs": [
        {
          "output_type": "stream",
          "name": "stdout",
          "text": [
            "155分後に東京ドームの体積を超える\n"
          ]
        },
        {
          "output_type": "display_data",
          "data": {
            "image/png": "[encoded data removed]",
            "text/plain": [
              "<Figure size 432x288 with 1 Axes>"
            ]
          },
          "metadata": {
            "needs_background": "light"
          }
        }
      ]
    },
    {
      "cell_type": "code",
      "metadata": {
        "id": "bKAdRpsRqYEG"
      },
      "source": [
        ""
      ],
      "execution_count": null,
      "outputs": []
    }
  ]
}