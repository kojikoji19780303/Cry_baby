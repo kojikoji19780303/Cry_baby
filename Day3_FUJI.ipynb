{
  "nbformat": 4,
  "nbformat_minor": 0,
  "metadata": {
    "colab": {
      "name": "Day3_FUJI.ipynb",
      "provenance": [],
      "collapsed_sections": [],
      "authorship_tag": "ABX9TyPOGi8nVtZfw1MKbMRKZUKF",
      "include_colab_link": true
    },
    "kernelspec": {
      "name": "python3",
      "display_name": "Python 3"
    },
    "language_info": {
      "name": "python"
    }
  },
  "cells": [
    {
      "cell_type": "markdown",
      "metadata": {
        "id": "view-in-github",
        "colab_type": "text"
      },
      "source": [
        "<a href=\"https://colab.research.google.com/github/kojikoji19780303/Cry_baby/blob/master/Day3_FUJI.ipynb\" target=\"_parent\"><img src=\"https://colab.research.google.com/assets/colab-badge.svg\" alt=\"Open In Colab\"/></a>"
      ]
    },
    {
      "cell_type": "code",
      "metadata": {
        "id": "56bcb7r_hJlO"
      },
      "source": [
        ""
      ],
      "execution_count": null,
      "outputs": []
    },
    {
      "cell_type": "markdown",
      "metadata": {
        "id": "UaCpsHauhod3"
      },
      "source": [
        "\n",
        "【問題1】何回折ったら富士山を超えるか\n",
        "厚さが「富士山の高さ(3776m)」を超えるのに必要な紙を折る最小回数を計算するプログラムを作成してください。"
      ]
    },
    {
      "cell_type": "markdown",
      "metadata": {
        "id": "D3taDDcFhi0t"
      },
      "source": [
        ""
      ]
    },
    {
      "cell_type": "code",
      "metadata": {
        "colab": {
          "base_uri": "https://localhost:8080/"
        },
        "id": "imUMX-aShqmu",
        "outputId": "48f76dc6-2922-4f19-c298-b57d5aa3d333"
      },
      "source": [
        "THICKNESS = 0.00008\n",
        "FUJI = 3776\n",
        "\n",
        "folded_thicknesslist = [THICKNESS]\n",
        "n_folded = 0\n",
        "\n",
        "while folded_thicknesslist[-1] <= FUJI:\n",
        "  folded_thicknesslist.append(folded_thicknesslist[-1]*2)\n",
        "  n_folded = n_folded +1\n",
        "\n",
        "print(\"{}回折ると{}mを超えて{:.2f}mになる\".format(n_folded,FUJI,folded_thicknesslist[-1]))\n"
      ],
      "execution_count": null,
      "outputs": [
        {
          "output_type": "stream",
          "name": "stdout",
          "text": [
            "26回折ると3776mを超えて5368.71mになる\n"
          ]
        }
      ]
    },
    {
      "cell_type": "markdown",
      "metadata": {
        "id": "FOA58BTqrObX"
      },
      "source": [
        "### 【問題2】任意の厚さに対応した関数を作成\n",
        "距離を入力すると、何回折った時に超えるかを出力する関数を作成してください。引数として、折る前の厚さ $t_0$ も設定できるようにしましょう。\n",
        "\n",
        "この関数を利用して、「最も近い太陽以外の恒星」に到達するには紙を何回折る必要があるか計算してください。「最も近い太陽以外の恒星」の距離は調査してください。\n"
      ]
    },
    {
      "cell_type": "code",
      "metadata": {
        "colab": {
          "base_uri": "https://localhost:8080/"
        },
        "id": "R_zDyrRwrQOM",
        "outputId": "562a16ac-201b-49b7-9f47-8b8aa4ce0d93"
      },
      "source": [
        "def comupute_number_of_folds(elevation,thickness=0.00008):\n",
        "  \"\"\"\n",
        "  何回折ったら指定した距離を超えるか計算する関数\n",
        "\n",
        "  Prameters\n",
        "  ----------------\n",
        "  elevation : int\n",
        "  thickness : int\n",
        "\n",
        "  Return\n",
        "  ----------------\n",
        "  n_folded :int\n",
        "  \"\"\"\n",
        "  \n",
        "  folded_thicknesslist =[thickness]\n",
        "  n_folded = 0\n",
        "\n",
        "  while True:\n",
        "    n_folded = n_folded +1\n",
        "    folded_thicknesslist.append(folded_thicknesslist[-1]*2)\n",
        "    if folded_thicknesslist[-1] > elevation:\n",
        "      return n_folded\n",
        " \n",
        "elevation = 3776\n",
        "thickness = 0.00008\n",
        "n_folded = comupute_number_of_folds(elevation,thickness) \n",
        "\n",
        "print(\"{}回折ると{}mを超える\".format(n_folded,elevation))\n",
        "\n",
        "# 最も近い太陽以外の恒星\n",
        "distance_to_the_star = 4.243*9460730472580800\n",
        "elevation = distance_to_the_star\n",
        "\n",
        "n_folded = comupute_number_of_folds(elevation, thickness)\n",
        "print(\"{}回折ると{}mを超える\".format(n_folded, elevation))\n",
        "\n"
      ],
      "execution_count": null,
      "outputs": [
        {
          "output_type": "stream",
          "name": "stdout",
          "text": [
            "26回折ると3776mを超える\n",
            "69回折ると4.014187939516034e+16mを超える\n"
          ]
        }
      ]
    },
    {
      "cell_type": "markdown",
      "metadata": {
        "id": "GjFqY1e_3L9Z"
      },
      "source": [
        "### 【問題3】必要な紙の長さ\n",
        "実際のところ身近にある紙は43回はおろか10回も折れません。しかし、大きな紙ほどたくさん折ることができ、トイレットペーパーのような長い紙を一方向に折ることを考えた時の折れる回数を求める公式が存在します。\n",
        "\n",
        "厚さ $t_{0}$ の紙をn回折るために必要な紙の長さLは以下の公式で求まります。\n",
        "\n",
        "$$\n",
        "L = \\frac{\\pi t_{0}}{6}(2^n + 4)(2^n - 1)\n",
        "$$\n",
        "\n",
        "この公式を利用して、実際に紙を折り任意の厚さに到達するために必要な紙の長さを求める関数を作成してください。\n",
        "\n",
        "そしてこれを使って「月」「富士山」「最も近い太陽以外の恒星」に届くために必要な紙の長さを求めてください。"
      ]
    },
    {
      "cell_type": "code",
      "metadata": {
        "id": "l2w5VPxu3N0A"
      },
      "source": [
        ""
      ],
      "execution_count": null,
      "outputs": []
    },
    {
      "cell_type": "code",
      "metadata": {
        "colab": {
          "base_uri": "https://localhost:8080/"
        },
        "id": "WOaRTWfb3wqs",
        "outputId": "c057bbef-3ab2-4954-89e7-5d3a85f645c8"
      },
      "source": [
        "import math\n",
        "\n",
        "THICKNESS = 0.00008\n",
        "\n",
        "def compute_paper_length(elevation, thickness=0.00008):\n",
        "    \"\"\"\n",
        "    必要な紙の長さを計算する関数\n",
        "    \n",
        "    Parameteres\n",
        "    --------------\n",
        "    elevation: int or float\n",
        "        判定したい距離。単位はメートル。\n",
        "    thickness: int or float\n",
        "        紙の厚さ。単位はメートル。(default : 0.00008)\n",
        "\n",
        "    Returns\n",
        "    --------------\n",
        "    paper_length: float\n",
        "        必要な紙の長さ。単位はメートル。\n",
        "    n_folded: int\n",
        "        折る回数\n",
        "    \"\"\"\n",
        "    n_folded = comupute_number_of_folds(elevation, thickness=thickness)\n",
        "    paper_length = math.pi*thickness*(2**n_folded + 4)*(2**n_folded -1)/6\n",
        "    \n",
        "    return paper_length, n_folded\n",
        "\n",
        "# 月\n",
        "distance_to_the_moon = 384400*1000\n",
        "elevation = distance_to_the_moon\n",
        "paper_length, n_folded = compute_paper_length(elevation, thickness=THICKNESS)\n",
        "print(\"{}回折ると{}mを超え、この時{}mの紙が必要\".format(n_folded, elevation, paper_length))\n"
      ],
      "execution_count": null,
      "outputs": [
        {
          "output_type": "stream",
          "name": "stdout",
          "text": [
            "43回折ると384400000mを超え、この時3.240919444170781e+21mの紙が必要\n"
          ]
        }
      ]
    },
    {
      "cell_type": "code",
      "metadata": {
        "id": "UFi3ktAnnNVb"
      },
      "source": [
        ""
      ],
      "execution_count": null,
      "outputs": []
    }
  ]
}