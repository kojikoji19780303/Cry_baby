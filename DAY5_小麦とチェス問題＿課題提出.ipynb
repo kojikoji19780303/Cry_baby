{
  "nbformat": 4,
  "nbformat_minor": 0,
  "metadata": {
    "colab": {
      "name": "DAY5_小麦とチェス問題＿課題提出.ipynb",
      "provenance": [],
      "authorship_tag": "ABX9TyPj8yAn9qaoQIQPqG9Wlh8m",
      "include_colab_link": true
    },
    "kernelspec": {
      "name": "python3",
      "display_name": "Python 3"
    },
    "language_info": {
      "name": "python"
    }
  },
  "cells": [
    {
      "cell_type": "markdown",
      "metadata": {
        "id": "view-in-github",
        "colab_type": "text"
      },
      "source": [
        "<a href=\"https://colab.research.google.com/github/kojikoji19780303/Cry_baby/blob/master/DAY5_%E5%B0%8F%E9%BA%A6%E3%81%A8%E3%83%81%E3%82%A7%E3%82%B9%E5%95%8F%E9%A1%8C%EF%BC%BF%E8%AA%B2%E9%A1%8C%E6%8F%90%E5%87%BA.ipynb\" target=\"_parent\"><img src=\"https://colab.research.google.com/assets/colab-badge.svg\" alt=\"Open In Colab\"/></a>"
      ]
    },
    {
      "cell_type": "code",
      "execution_count": 28,
      "metadata": {
        "colab": {
          "base_uri": "https://localhost:8080/"
        },
        "id": "G5WBU66eQTQ1",
        "outputId": "53e1bcc4-aaeb-46cb-de35-28996b70a321"
      },
      "outputs": [
        {
          "output_type": "stream",
          "name": "stdout",
          "text": [
            "4マスの板に小麦を並べる（リスト）：[1, 2, 4, 8]\n"
          ]
        }
      ],
      "source": [
        "n_squares = 4\n",
        "small_board_list = [1]\n",
        "for n in range(n_squares - 1 ):\n",
        "    small_board_list.append(2*small_board_list[-1])\n",
        "print(\"4マスの板に小麦を並べる（リスト）：{}\".format(small_board_list))"
      ]
    },
    {
      "cell_type": "code",
      "source": [
        "# このリストにnp.array()を使うことで、ndarrayを作成することができます。\n",
        "import numpy as np\n",
        "small_board_ndarray = np.array(small_board_list)\n",
        "print(\"4マスの板に小麦を並べる（ndarray）：{}\".format(small_board_ndarray))"
      ],
      "metadata": {
        "colab": {
          "base_uri": "https://localhost:8080/"
        },
        "id": "6zqgiY_YRfSW",
        "outputId": "e477fc63-f925-4089-d066-294d7f76a061"
      },
      "execution_count": 27,
      "outputs": [
        {
          "output_type": "stream",
          "name": "stdout",
          "text": [
            "4マスの板に小麦を並べる（ndarray）：[1 2 4 8]\n"
          ]
        }
      ]
    },
    {
      "cell_type": "markdown",
      "source": [
        "【問題1】\n",
        "2×2マスのチェス盤をndarrayによって表現し、各マスの小麦の数を計算してください。左上のマスに小麦を1つ置いた後、その右が2つ、左下が4つ、右下が8つという風に進みます。サンプルコードで作成したndarrayのshapeの変形を行ってください。"
      ],
      "metadata": {
        "id": "Aq4_6tozVOTk"
      }
    },
    {
      "cell_type": "code",
      "source": [
        "from matplotlib import pyplot as plt\n",
        "%matplotlib inline\n",
        "import numpy as np"
      ],
      "metadata": {
        "id": "rm9rOd2XVRqJ"
      },
      "execution_count": 29,
      "outputs": []
    },
    {
      "cell_type": "code",
      "source": [
        "square_size = (2, 2)\n",
        "small_board_ndarray = small_board_ndarray.reshape(square_size)\n",
        "print(\"2×2マスのチェス盤：\\n{}\".format(small_board_ndarray))"
      ],
      "metadata": {
        "colab": {
          "base_uri": "https://localhost:8080/"
        },
        "id": "nlElxJ8XVf1T",
        "outputId": "1235c3a4-2703-4f22-a149-790ef9ccadf0"
      },
      "execution_count": 30,
      "outputs": [
        {
          "output_type": "stream",
          "name": "stdout",
          "text": [
            "2×2マスのチェス盤：\n",
            "[[1 2]\n",
            " [4 8]]\n"
          ]
        }
      ]
    },
    {
      "cell_type": "markdown",
      "source": [
        "【問題2】\n",
        "n×mマスのチェス盤の小麦の数を記したndarrayを返す関数を作成してください。そして、この関数を使い8×8マスのチェス盤の小麦の数を求めてください。"
      ],
      "metadata": {
        "id": "SSI9m9XBbfMD"
      }
    },
    {
      "cell_type": "code",
      "source": [
        "def chess_board(square_size=(8, 8)):\n",
        "    n_squares = square_size[0]*square_size[1]\n",
        "    board_list = [1]\n",
        "    for _ in range(n_squares - 1):\n",
        "        board_list.append(2*board_list[-1])\n",
        "    board_ndarray = np.array(board_list).reshape(square_size)\n",
        "    return board_ndarray\n",
        "\n",
        "square_size = (8, 8)\n",
        "board_ndarray = chess_board(square_size=square_size)\n",
        "\n",
        "np.set_printoptions(precision=1) # ndarrayを出力する際の桁数を指定し見やすくする\n",
        "print(\"{}マスのチェス盤：\\n{}\".format(square_size, board_ndarray))"
      ],
      "metadata": {
        "colab": {
          "base_uri": "https://localhost:8080/"
        },
        "id": "bkIBOzv-bjZy",
        "outputId": "4439b590-d5de-4faf-bd4d-7e6cf1a29103"
      },
      "execution_count": 31,
      "outputs": [
        {
          "output_type": "stream",
          "name": "stdout",
          "text": [
            "(8, 8)マスのチェス盤：\n",
            "[[1.0e+00 2.0e+00 4.0e+00 8.0e+00 1.6e+01 3.2e+01 6.4e+01 1.3e+02]\n",
            " [2.6e+02 5.1e+02 1.0e+03 2.0e+03 4.1e+03 8.2e+03 1.6e+04 3.3e+04]\n",
            " [6.6e+04 1.3e+05 2.6e+05 5.2e+05 1.0e+06 2.1e+06 4.2e+06 8.4e+06]\n",
            " [1.7e+07 3.4e+07 6.7e+07 1.3e+08 2.7e+08 5.4e+08 1.1e+09 2.1e+09]\n",
            " [4.3e+09 8.6e+09 1.7e+10 3.4e+10 6.9e+10 1.4e+11 2.7e+11 5.5e+11]\n",
            " [1.1e+12 2.2e+12 4.4e+12 8.8e+12 1.8e+13 3.5e+13 7.0e+13 1.4e+14]\n",
            " [2.8e+14 5.6e+14 1.1e+15 2.3e+15 4.5e+15 9.0e+15 1.8e+16 3.6e+16]\n",
            " [7.2e+16 1.4e+17 2.9e+17 5.8e+17 1.2e+18 2.3e+18 4.6e+18 9.2e+18]]\n"
          ]
        }
      ]
    },
    {
      "cell_type": "markdown",
      "source": [
        "【問題3】小麦の数の合計\n",
        "8×8マスのチェス盤の小麦の数の合計を求めてください。また、各列の平均を求め、それを棒グラフで可視化してください。"
      ],
      "metadata": {
        "id": "2wpY9X4TdHU5"
      }
    },
    {
      "cell_type": "code",
      "source": [
        "import matplotlib.pyplot as plt\n",
        "%matplotlib inline\n",
        "\n",
        "square_size = (8, 8)\n",
        "board_ndarray = chess_board(square_size=square_size)\n",
        "\n",
        "sum_board = board_ndarray.sum()\n",
        "mean_board_columns = board_ndarray.mean(axis=0)\n",
        "\n",
        "print(\"{}マスのチェス盤の小麦の合計：{:.1e}\".format(square_size, sum_board))\n",
        "\n",
        "plt.xlabel(\"column\")\n",
        "plt.ylabel(\"number\")\n",
        "plt.title(\"number in each column\")\n",
        "plt.bar(np.arange(1,9), mean_board_columns)\n",
        "plt.show()"
      ],
      "metadata": {
        "colab": {
          "base_uri": "https://localhost:8080/",
          "height": 313
        },
        "id": "ULUtNfFdYUps",
        "outputId": "c6cbbfe5-d745-4198-ec96-d4f25fdca24f"
      },
      "execution_count": 33,
      "outputs": [
        {
          "output_type": "stream",
          "name": "stdout",
          "text": [
            "(8, 8)マスのチェス盤の小麦の合計：1.8e+19\n"
          ]
        },
        {
          "output_type": "display_data",
          "data": {
            "image/png": "[encoded data removed]",
            "text/plain": [
              "<Figure size 432x288 with 1 Axes>"
            ]
          },
          "metadata": {
            "needs_background": "light"
          }
        }
      ]
    },
    {
      "cell_type": "code",
      "source": [
        "【問題4】小麦の数のヒートマップ"
      ],
      "metadata": {
        "id": "qr0yMUfCdOCy"
      },
      "execution_count": null,
      "outputs": []
    },
    {
      "cell_type": "code",
      "source": [
        "square_size = (8, 8)\n",
        "board_ndarray = chess_board(square_size=square_size)\n",
        "\n",
        "plt.xlabel(\"column\")\n",
        "plt.ylabel(\"row\")\n",
        "plt.title(\"heatmap\")\n",
        "plt.pcolor(board_ndarray[::-1]) # スライシングで上下を反転させた\n",
        "plt.show()"
      ],
      "metadata": {
        "colab": {
          "base_uri": "https://localhost:8080/",
          "height": 295
        },
        "id": "2CpmU4XWdkPY",
        "outputId": "050739ee-1871-4743-c014-d6e08789a60c"
      },
      "execution_count": 34,
      "outputs": [
        {
          "output_type": "display_data",
          "data": {
            "image/png": "[encoded data removed]",
            "text/plain": [
              "<Figure size 432x288 with 1 Axes>"
            ]
          },
          "metadata": {
            "needs_background": "light"
          }
        }
      ]
    },
    {
      "cell_type": "markdown",
      "source": [
        "【問題5】\n",
        "チェス盤の後半にある小麦の数は前半にある小麦の数の何倍かを求めてください。前半とは配列の0から3行目、後半は4から7行目です。"
      ],
      "metadata": {
        "id": "xP1q0VXKeJcc"
      }
    },
    {
      "cell_type": "code",
      "source": [
        "square_size = (8, 8)\n",
        "board_ndarray = chess_board(square_size=square_size)\n",
        "\n",
        "first_half = board_ndarray[:4, :].sum()\n",
        "second_half = board_ndarray[4:, :].sum()\n",
        "\n",
        "rate = second_half/first_half\n",
        "\n",
        "print(\"後半は前半の{}倍\".format(rate))"
      ],
      "metadata": {
        "colab": {
          "base_uri": "https://localhost:8080/"
        },
        "id": "l9TAstZveLsP",
        "outputId": "7c9c2ccf-e6a5-4905-efee-67188fd4c3db"
      },
      "execution_count": 35,
      "outputs": [
        {
          "output_type": "stream",
          "name": "stdout",
          "text": [
            "後半は前半の4294967296.0倍\n"
          ]
        }
      ]
    },
    {
      "cell_type": "markdown",
      "source": [
        "6.他の計算方法"
      ],
      "metadata": {
        "id": "T1KKFAZpeeHa"
      }
    },
    {
      "cell_type": "code",
      "source": [
        "def chess_board_with_npappend(square_size=(8, 8)):\n",
        "    n_squares = square_size[0]*square_size[1]\n",
        "    board_ndarray = np.array([1]).astype(np.uint64)\n",
        "    times = np.array([2]).astype(np.uint64)\n",
        "    for _ in range(n_squares - 1):\n",
        "        board_ndarray = np.append(board_ndarray, times*board_ndarray[-1])\n",
        "    board_ndarray = board_ndarray.reshape(square_size)\n",
        "    return board_ndarray\n",
        "\n",
        "square_size = (8, 8)\n",
        "board_ndarray = chess_board_with_npappend(square_size=square_size)\n",
        "\n",
        "print(\"{}マスのチェス盤：\\n{}\".format(square_size, board_ndarray))"
      ],
      "metadata": {
        "colab": {
          "base_uri": "https://localhost:8080/"
        },
        "id": "xK6Y9bbFefKd",
        "outputId": "680a09af-7272-45ae-97e0-96e699a8485c"
      },
      "execution_count": 36,
      "outputs": [
        {
          "output_type": "stream",
          "name": "stdout",
          "text": [
            "(8, 8)マスのチェス盤：\n",
            "[[                  1                   2                   4\n",
            "                    8                  16                  32\n",
            "                   64                 128]\n",
            " [                256                 512                1024\n",
            "                 2048                4096                8192\n",
            "                16384               32768]\n",
            " [              65536              131072              262144\n",
            "               524288             1048576             2097152\n",
            "              4194304             8388608]\n",
            " [           16777216            33554432            67108864\n",
            "            134217728           268435456           536870912\n",
            "           1073741824          2147483648]\n",
            " [         4294967296          8589934592         17179869184\n",
            "          34359738368         68719476736        137438953472\n",
            "         274877906944        549755813888]\n",
            " [      1099511627776       2199023255552       4398046511104\n",
            "        8796093022208      17592186044416      35184372088832\n",
            "       70368744177664     140737488355328]\n",
            " [    281474976710656     562949953421312    1125899906842624\n",
            "     2251799813685248    4503599627370496    9007199254740992\n",
            "    18014398509481984   36028797018963968]\n",
            " [  72057594037927936  144115188075855872  288230376151711744\n",
            "   576460752303423488 1152921504606846976 2305843009213693952\n",
            "  4611686018427387904 9223372036854775808]]\n"
          ]
        }
      ]
    },
    {
      "cell_type": "code",
      "source": [
        "def chess_board_with_broadcast(square_size=(8, 8)):\n",
        "\n",
        "    n_squares = square_size[0]*square_size[1]\n",
        "    indices_of_squares = np.arange(n_squares).astype(np.uint64)\n",
        "    board_ndarray = 2**indices_of_squares\n",
        "    board_ndarray = board_ndarray.reshape(square_size)\n",
        "    return board_ndarray\n",
        "\n",
        "square_size = (8, 8)\n",
        "board_ndarray = chess_board_with_broadcast(square_size=square_size)\n",
        "\n",
        "print(\"{}マスのチェス盤：\\n{}\".format(square_size, board_ndarray))"
      ],
      "metadata": {
        "colab": {
          "base_uri": "https://localhost:8080/"
        },
        "id": "Eys8sPvQfY9N",
        "outputId": "8228114b-ed83-4c5e-c752-410f0b831919"
      },
      "execution_count": 37,
      "outputs": [
        {
          "output_type": "stream",
          "name": "stdout",
          "text": [
            "(8, 8)マスのチェス盤：\n",
            "[[                  1                   2                   4\n",
            "                    8                  16                  32\n",
            "                   64                 128]\n",
            " [                256                 512                1024\n",
            "                 2048                4096                8192\n",
            "                16384               32768]\n",
            " [              65536              131072              262144\n",
            "               524288             1048576             2097152\n",
            "              4194304             8388608]\n",
            " [           16777216            33554432            67108864\n",
            "            134217728           268435456           536870912\n",
            "           1073741824          2147483648]\n",
            " [         4294967296          8589934592         17179869184\n",
            "          34359738368         68719476736        137438953472\n",
            "         274877906944        549755813888]\n",
            " [      1099511627776       2199023255552       4398046511104\n",
            "        8796093022208      17592186044416      35184372088832\n",
            "       70368744177664     140737488355328]\n",
            " [    281474976710656     562949953421312    1125899906842624\n",
            "     2251799813685248    4503599627370496    9007199254740992\n",
            "    18014398509481984   36028797018963968]\n",
            " [  72057594037927936  144115188075855872  288230376151711744\n",
            "   576460752303423488 1152921504606846976 2305843009213693952\n",
            "  4611686018427387904 9223372036854775808]]\n"
          ]
        }
      ]
    },
    {
      "cell_type": "markdown",
      "source": [
        "【問題7】計算時間の比較"
      ],
      "metadata": {
        "id": "wP9k4wOFflgE"
      }
    },
    {
      "cell_type": "code",
      "source": [
        "square_size = (8, 8)"
      ],
      "metadata": {
        "id": "UKtLYqE_fmJr"
      },
      "execution_count": 38,
      "outputs": []
    },
    {
      "cell_type": "code",
      "source": [
        "%%timeit\n",
        "board_ndarray = chess_board(square_size=square_size)"
      ],
      "metadata": {
        "colab": {
          "base_uri": "https://localhost:8080/"
        },
        "id": "NvSJtFixfy4a",
        "outputId": "629cbacc-fb8b-4698-aefb-43fd017ed308"
      },
      "execution_count": 39,
      "outputs": [
        {
          "output_type": "stream",
          "name": "stdout",
          "text": [
            "The slowest run took 10.71 times longer than the fastest. This could mean that an intermediate result is being cached.\n",
            "10000 loops, best of 5: 19.5 µs per loop\n"
          ]
        }
      ]
    },
    {
      "cell_type": "code",
      "source": [
        "%%timeit\n",
        "board_ndarray = chess_board_with_npappend(square_size=square_size)"
      ],
      "metadata": {
        "colab": {
          "base_uri": "https://localhost:8080/"
        },
        "id": "N6YEGv0sfbQ5",
        "outputId": "7dc80a46-c533-46eb-8b9f-ae762914cdee"
      },
      "execution_count": 40,
      "outputs": [
        {
          "output_type": "stream",
          "name": "stdout",
          "text": [
            "The slowest run took 9.13 times longer than the fastest. This could mean that an intermediate result is being cached.\n",
            "1000 loops, best of 5: 435 µs per loop\n"
          ]
        }
      ]
    },
    {
      "cell_type": "code",
      "source": [
        "%%timeit\n",
        "board_ndarray = chess_board_with_broadcast(square_size=square_size)"
      ],
      "metadata": {
        "colab": {
          "base_uri": "https://localhost:8080/"
        },
        "id": "6vYemcpUf76r",
        "outputId": "8b10622e-c8f0-4ffd-cd00-cf069b59ded6"
      },
      "execution_count": 41,
      "outputs": [
        {
          "output_type": "stream",
          "name": "stdout",
          "text": [
            "The slowest run took 206.04 times longer than the fastest. This could mean that an intermediate result is being cached.\n",
            "100000 loops, best of 5: 4.29 µs per loop\n"
          ]
        }
      ]
    },
    {
      "cell_type": "code",
      "source": [
        "square_size = (2, 2)"
      ],
      "metadata": {
        "id": "MwzGzt8ef_go"
      },
      "execution_count": 42,
      "outputs": []
    },
    {
      "cell_type": "code",
      "source": [
        "%%timeit\n",
        "board_ndarray = chess_board(square_size=square_size)"
      ],
      "metadata": {
        "colab": {
          "base_uri": "https://localhost:8080/"
        },
        "id": "EoaSlwz8gDY3",
        "outputId": "22138892-36ca-42e5-dd2b-e0ff54662f6f"
      },
      "execution_count": 43,
      "outputs": [
        {
          "output_type": "stream",
          "name": "stdout",
          "text": [
            "The slowest run took 12.56 times longer than the fastest. This could mean that an intermediate result is being cached.\n",
            "100000 loops, best of 5: 3.06 µs per loop\n"
          ]
        }
      ]
    },
    {
      "cell_type": "code",
      "source": [
        "%%timeit\n",
        "board_ndarray = chess_board_with_npappend(square_size=square_size)"
      ],
      "metadata": {
        "colab": {
          "base_uri": "https://localhost:8080/"
        },
        "id": "1sLXZ-c6gEbb",
        "outputId": "7fb9ce09-ae83-44a3-ca3a-c63013ce3b4b"
      },
      "execution_count": 44,
      "outputs": [
        {
          "output_type": "stream",
          "name": "stdout",
          "text": [
            "The slowest run took 6.97 times longer than the fastest. This could mean that an intermediate result is being cached.\n",
            "10000 loops, best of 5: 27.1 µs per loop\n"
          ]
        }
      ]
    },
    {
      "cell_type": "code",
      "source": [
        "%%timeit\n",
        "board_ndarray = chess_board_with_broadcast(square_size=square_size)"
      ],
      "metadata": {
        "colab": {
          "base_uri": "https://localhost:8080/"
        },
        "id": "07EaJVWggIMl",
        "outputId": "9a12b083-ef42-468f-f176-6800961effbb"
      },
      "execution_count": 45,
      "outputs": [
        {
          "output_type": "stream",
          "name": "stdout",
          "text": [
            "The slowest run took 23.48 times longer than the fastest. This could mean that an intermediate result is being cached.\n",
            "100000 loops, best of 5: 3.88 µs per loop\n"
          ]
        }
      ]
    }
  ]
}